{
  "nbformat": 4,
  "nbformat_minor": 0,
  "metadata": {
    "colab": {
      "name": "WEB_SCRAPING.ipynb",
      "provenance": [],
      "collapsed_sections": []
    },
    "kernelspec": {
      "name": "python3",
      "display_name": "Python 3"
    },
    "language_info": {
      "name": "python"
    }
  },
  "cells": [
    {
      "cell_type": "markdown",
      "metadata": {
        "id": "7Usw09YHuG-p"
      },
      "source": [
        "# **18IT029_DS_PRACTICAL_1(WEB SCRAPING)**"
      ]
    },
    {
      "cell_type": "code",
      "metadata": {
        "colab": {
          "base_uri": "https://localhost:8080/"
        },
        "id": "ZAYjjpp8rqMK",
        "outputId": "7b7e4ccf-024e-445d-a131-aaeb734398d5"
      },
      "source": [
        "pip install selenium"
      ],
      "execution_count": null,
      "outputs": [
        {
          "output_type": "stream",
          "text": [
            "Collecting selenium\n",
            "  Downloading selenium-3.141.0-py2.py3-none-any.whl (904 kB)\n",
            "\u001b[?25l\r\u001b[K     |▍                               | 10 kB 21.9 MB/s eta 0:00:01\r\u001b[K     |▊                               | 20 kB 28.2 MB/s eta 0:00:01\r\u001b[K     |█                               | 30 kB 33.3 MB/s eta 0:00:01\r\u001b[K     |█▌                              | 40 kB 35.8 MB/s eta 0:00:01\r\u001b[K     |█▉                              | 51 kB 32.8 MB/s eta 0:00:01\r\u001b[K     |██▏                             | 61 kB 33.9 MB/s eta 0:00:01\r\u001b[K     |██▌                             | 71 kB 26.6 MB/s eta 0:00:01\r\u001b[K     |███                             | 81 kB 28.1 MB/s eta 0:00:01\r\u001b[K     |███▎                            | 92 kB 28.2 MB/s eta 0:00:01\r\u001b[K     |███▋                            | 102 kB 28.5 MB/s eta 0:00:01\r\u001b[K     |████                            | 112 kB 28.5 MB/s eta 0:00:01\r\u001b[K     |████▍                           | 122 kB 28.5 MB/s eta 0:00:01\r\u001b[K     |████▊                           | 133 kB 28.5 MB/s eta 0:00:01\r\u001b[K     |█████                           | 143 kB 28.5 MB/s eta 0:00:01\r\u001b[K     |█████▍                          | 153 kB 28.5 MB/s eta 0:00:01\r\u001b[K     |█████▉                          | 163 kB 28.5 MB/s eta 0:00:01\r\u001b[K     |██████▏                         | 174 kB 28.5 MB/s eta 0:00:01\r\u001b[K     |██████▌                         | 184 kB 28.5 MB/s eta 0:00:01\r\u001b[K     |██████▉                         | 194 kB 28.5 MB/s eta 0:00:01\r\u001b[K     |███████▎                        | 204 kB 28.5 MB/s eta 0:00:01\r\u001b[K     |███████▋                        | 215 kB 28.5 MB/s eta 0:00:01\r\u001b[K     |████████                        | 225 kB 28.5 MB/s eta 0:00:01\r\u001b[K     |████████▎                       | 235 kB 28.5 MB/s eta 0:00:01\r\u001b[K     |████████▊                       | 245 kB 28.5 MB/s eta 0:00:01\r\u001b[K     |█████████                       | 256 kB 28.5 MB/s eta 0:00:01\r\u001b[K     |█████████▍                      | 266 kB 28.5 MB/s eta 0:00:01\r\u001b[K     |█████████▉                      | 276 kB 28.5 MB/s eta 0:00:01\r\u001b[K     |██████████▏                     | 286 kB 28.5 MB/s eta 0:00:01\r\u001b[K     |██████████▌                     | 296 kB 28.5 MB/s eta 0:00:01\r\u001b[K     |██████████▉                     | 307 kB 28.5 MB/s eta 0:00:01\r\u001b[K     |███████████▎                    | 317 kB 28.5 MB/s eta 0:00:01\r\u001b[K     |███████████▋                    | 327 kB 28.5 MB/s eta 0:00:01\r\u001b[K     |████████████                    | 337 kB 28.5 MB/s eta 0:00:01\r\u001b[K     |████████████▎                   | 348 kB 28.5 MB/s eta 0:00:01\r\u001b[K     |████████████▊                   | 358 kB 28.5 MB/s eta 0:00:01\r\u001b[K     |█████████████                   | 368 kB 28.5 MB/s eta 0:00:01\r\u001b[K     |█████████████▍                  | 378 kB 28.5 MB/s eta 0:00:01\r\u001b[K     |█████████████▊                  | 389 kB 28.5 MB/s eta 0:00:01\r\u001b[K     |██████████████▏                 | 399 kB 28.5 MB/s eta 0:00:01\r\u001b[K     |██████████████▌                 | 409 kB 28.5 MB/s eta 0:00:01\r\u001b[K     |██████████████▉                 | 419 kB 28.5 MB/s eta 0:00:01\r\u001b[K     |███████████████▏                | 430 kB 28.5 MB/s eta 0:00:01\r\u001b[K     |███████████████▋                | 440 kB 28.5 MB/s eta 0:00:01\r\u001b[K     |████████████████                | 450 kB 28.5 MB/s eta 0:00:01\r\u001b[K     |████████████████▎               | 460 kB 28.5 MB/s eta 0:00:01\r\u001b[K     |████████████████▋               | 471 kB 28.5 MB/s eta 0:00:01\r\u001b[K     |█████████████████               | 481 kB 28.5 MB/s eta 0:00:01\r\u001b[K     |█████████████████▍              | 491 kB 28.5 MB/s eta 0:00:01\r\u001b[K     |█████████████████▊              | 501 kB 28.5 MB/s eta 0:00:01\r\u001b[K     |██████████████████▏             | 512 kB 28.5 MB/s eta 0:00:01\r\u001b[K     |██████████████████▌             | 522 kB 28.5 MB/s eta 0:00:01\r\u001b[K     |██████████████████▉             | 532 kB 28.5 MB/s eta 0:00:01\r\u001b[K     |███████████████████▏            | 542 kB 28.5 MB/s eta 0:00:01\r\u001b[K     |███████████████████▋            | 552 kB 28.5 MB/s eta 0:00:01\r\u001b[K     |████████████████████            | 563 kB 28.5 MB/s eta 0:00:01\r\u001b[K     |████████████████████▎           | 573 kB 28.5 MB/s eta 0:00:01\r\u001b[K     |████████████████████▋           | 583 kB 28.5 MB/s eta 0:00:01\r\u001b[K     |█████████████████████           | 593 kB 28.5 MB/s eta 0:00:01\r\u001b[K     |█████████████████████▍          | 604 kB 28.5 MB/s eta 0:00:01\r\u001b[K     |█████████████████████▊          | 614 kB 28.5 MB/s eta 0:00:01\r\u001b[K     |██████████████████████          | 624 kB 28.5 MB/s eta 0:00:01\r\u001b[K     |██████████████████████▌         | 634 kB 28.5 MB/s eta 0:00:01\r\u001b[K     |██████████████████████▉         | 645 kB 28.5 MB/s eta 0:00:01\r\u001b[K     |███████████████████████▏        | 655 kB 28.5 MB/s eta 0:00:01\r\u001b[K     |███████████████████████▌        | 665 kB 28.5 MB/s eta 0:00:01\r\u001b[K     |████████████████████████        | 675 kB 28.5 MB/s eta 0:00:01\r\u001b[K     |████████████████████████▎       | 686 kB 28.5 MB/s eta 0:00:01\r\u001b[K     |████████████████████████▋       | 696 kB 28.5 MB/s eta 0:00:01\r\u001b[K     |█████████████████████████       | 706 kB 28.5 MB/s eta 0:00:01\r\u001b[K     |█████████████████████████▍      | 716 kB 28.5 MB/s eta 0:00:01\r\u001b[K     |█████████████████████████▊      | 727 kB 28.5 MB/s eta 0:00:01\r\u001b[K     |██████████████████████████      | 737 kB 28.5 MB/s eta 0:00:01\r\u001b[K     |██████████████████████████▍     | 747 kB 28.5 MB/s eta 0:00:01\r\u001b[K     |██████████████████████████▉     | 757 kB 28.5 MB/s eta 0:00:01\r\u001b[K     |███████████████████████████▏    | 768 kB 28.5 MB/s eta 0:00:01\r\u001b[K     |███████████████████████████▌    | 778 kB 28.5 MB/s eta 0:00:01\r\u001b[K     |████████████████████████████    | 788 kB 28.5 MB/s eta 0:00:01\r\u001b[K     |████████████████████████████▎   | 798 kB 28.5 MB/s eta 0:00:01\r\u001b[K     |████████████████████████████▋   | 808 kB 28.5 MB/s eta 0:00:01\r\u001b[K     |█████████████████████████████   | 819 kB 28.5 MB/s eta 0:00:01\r\u001b[K     |█████████████████████████████▍  | 829 kB 28.5 MB/s eta 0:00:01\r\u001b[K     |█████████████████████████████▊  | 839 kB 28.5 MB/s eta 0:00:01\r\u001b[K     |██████████████████████████████  | 849 kB 28.5 MB/s eta 0:00:01\r\u001b[K     |██████████████████████████████▍ | 860 kB 28.5 MB/s eta 0:00:01\r\u001b[K     |██████████████████████████████▉ | 870 kB 28.5 MB/s eta 0:00:01\r\u001b[K     |███████████████████████████████▏| 880 kB 28.5 MB/s eta 0:00:01\r\u001b[K     |███████████████████████████████▌| 890 kB 28.5 MB/s eta 0:00:01\r\u001b[K     |███████████████████████████████▉| 901 kB 28.5 MB/s eta 0:00:01\r\u001b[K     |████████████████████████████████| 904 kB 28.5 MB/s \n",
            "\u001b[?25hRequirement already satisfied: urllib3 in /usr/local/lib/python3.7/dist-packages (from selenium) (1.24.3)\n",
            "Installing collected packages: selenium\n",
            "Successfully installed selenium-3.141.0\n"
          ],
          "name": "stdout"
        }
      ]
    },
    {
      "cell_type": "code",
      "metadata": {
        "id": "u6ylIizVuGen"
      },
      "source": [
        "from selenium import webdriver\n"
      ],
      "execution_count": null,
      "outputs": []
    },
    {
      "cell_type": "code",
      "metadata": {
        "id": "qTUl60ZvuvrV"
      },
      "source": [
        "from bs4 import BeautifulSoup\n",
        "import pandas as pd"
      ],
      "execution_count": null,
      "outputs": []
    },
    {
      "cell_type": "code",
      "metadata": {
        "colab": {
          "base_uri": "https://localhost:8080/"
        },
        "id": "GjVh4bOhuxP0",
        "outputId": "555d2761-6008-43b8-d220-dad1bce4d438"
      },
      "source": [
        "!apt install chromium-chromedriver"
      ],
      "execution_count": null,
      "outputs": [
        {
          "output_type": "stream",
          "text": [
            "Reading package lists... Done\n",
            "Building dependency tree       \n",
            "Reading state information... Done\n",
            "The following additional packages will be installed:\n",
            "  chromium-browser chromium-browser-l10n chromium-codecs-ffmpeg-extra\n",
            "Suggested packages:\n",
            "  webaccounts-chromium-extension unity-chromium-extension\n",
            "The following NEW packages will be installed:\n",
            "  chromium-browser chromium-browser-l10n chromium-chromedriver\n",
            "  chromium-codecs-ffmpeg-extra\n",
            "0 upgraded, 4 newly installed, 0 to remove and 40 not upgraded.\n",
            "Need to get 86.0 MB of archives.\n",
            "After this operation, 298 MB of additional disk space will be used.\n",
            "Get:1 http://archive.ubuntu.com/ubuntu bionic-updates/universe amd64 chromium-codecs-ffmpeg-extra amd64 91.0.4472.101-0ubuntu0.18.04.1 [1,124 kB]\n",
            "Get:2 http://archive.ubuntu.com/ubuntu bionic-updates/universe amd64 chromium-browser amd64 91.0.4472.101-0ubuntu0.18.04.1 [76.1 MB]\n",
            "Get:3 http://archive.ubuntu.com/ubuntu bionic-updates/universe amd64 chromium-browser-l10n all 91.0.4472.101-0ubuntu0.18.04.1 [3,937 kB]\n",
            "Get:4 http://archive.ubuntu.com/ubuntu bionic-updates/universe amd64 chromium-chromedriver amd64 91.0.4472.101-0ubuntu0.18.04.1 [4,837 kB]\n",
            "Fetched 86.0 MB in 3s (28.4 MB/s)\n",
            "Selecting previously unselected package chromium-codecs-ffmpeg-extra.\n",
            "(Reading database ... 160837 files and directories currently installed.)\n",
            "Preparing to unpack .../chromium-codecs-ffmpeg-extra_91.0.4472.101-0ubuntu0.18.04.1_amd64.deb ...\n",
            "Unpacking chromium-codecs-ffmpeg-extra (91.0.4472.101-0ubuntu0.18.04.1) ...\n",
            "Selecting previously unselected package chromium-browser.\n",
            "Preparing to unpack .../chromium-browser_91.0.4472.101-0ubuntu0.18.04.1_amd64.deb ...\n",
            "Unpacking chromium-browser (91.0.4472.101-0ubuntu0.18.04.1) ...\n",
            "Selecting previously unselected package chromium-browser-l10n.\n",
            "Preparing to unpack .../chromium-browser-l10n_91.0.4472.101-0ubuntu0.18.04.1_all.deb ...\n",
            "Unpacking chromium-browser-l10n (91.0.4472.101-0ubuntu0.18.04.1) ...\n",
            "Selecting previously unselected package chromium-chromedriver.\n",
            "Preparing to unpack .../chromium-chromedriver_91.0.4472.101-0ubuntu0.18.04.1_amd64.deb ...\n",
            "Unpacking chromium-chromedriver (91.0.4472.101-0ubuntu0.18.04.1) ...\n",
            "Setting up chromium-codecs-ffmpeg-extra (91.0.4472.101-0ubuntu0.18.04.1) ...\n",
            "Setting up chromium-browser (91.0.4472.101-0ubuntu0.18.04.1) ...\n",
            "update-alternatives: using /usr/bin/chromium-browser to provide /usr/bin/x-www-browser (x-www-browser) in auto mode\n",
            "update-alternatives: using /usr/bin/chromium-browser to provide /usr/bin/gnome-www-browser (gnome-www-browser) in auto mode\n",
            "Setting up chromium-chromedriver (91.0.4472.101-0ubuntu0.18.04.1) ...\n",
            "Setting up chromium-browser-l10n (91.0.4472.101-0ubuntu0.18.04.1) ...\n",
            "Processing triggers for man-db (2.8.3-2ubuntu0.1) ...\n",
            "Processing triggers for hicolor-icon-theme (0.17-2) ...\n",
            "Processing triggers for mime-support (3.60ubuntu1) ...\n",
            "Processing triggers for libc-bin (2.27-3ubuntu1.2) ...\n",
            "/sbin/ldconfig.real: /usr/local/lib/python3.7/dist-packages/ideep4py/lib/libmkldnn.so.0 is not a symbolic link\n",
            "\n"
          ],
          "name": "stdout"
        }
      ]
    },
    {
      "cell_type": "code",
      "metadata": {
        "colab": {
          "base_uri": "https://localhost:8080/"
        },
        "id": "O94LkgoIvGok",
        "outputId": "e7596e22-4dc3-4754-9754-a22bfe41baeb"
      },
      "source": [
        "from selenium import webdriver\n",
        "chrome_options = webdriver.ChromeOptions()\n",
        "chrome_options.add_argument('--headless')\n",
        "chrome_options.add_argument('--no-sandbox')\n",
        "chrome_options.add_argument('--disable-dev-shm-usage')\n",
        "wd = webdriver.Chrome('chromedriver',chrome_options=chrome_options)\n",
        "driver =webdriver.Chrome('chromedriver',chrome_options=chrome_options)"
      ],
      "execution_count": null,
      "outputs": [
        {
          "output_type": "stream",
          "text": [
            "/usr/local/lib/python3.7/dist-packages/ipykernel_launcher.py:6: DeprecationWarning: use options instead of chrome_options\n",
            "  \n",
            "/usr/local/lib/python3.7/dist-packages/ipykernel_launcher.py:7: DeprecationWarning: use options instead of chrome_options\n",
            "  import sys\n"
          ],
          "name": "stderr"
        }
      ]
    },
    {
      "cell_type": "code",
      "metadata": {
        "id": "k6KIL4FwvJNz"
      },
      "source": [
        "products=[] #List to store name of the product\n",
        "prices=[] #List to store price of the product\n",
        "specifications=[] #List to specification of the product\n",
        "driver.get(\"https://www.flipkart.com/search?q=camera&otracker=search&otracker1=search&marketplace=FLIPKART&as-show=on&as=off\")\n"
      ],
      "execution_count": null,
      "outputs": []
    },
    {
      "cell_type": "code",
      "metadata": {
        "id": "rvfQ5dtBwEpA"
      },
      "source": [
        "content = driver.page_source\n",
        "soup = BeautifulSoup(content)"
      ],
      "execution_count": null,
      "outputs": []
    },
    {
      "cell_type": "code",
      "metadata": {
        "id": "RSMUVvBQwcIz"
      },
      "source": [
        "for a in soup.findAll('a',href=True, attrs={'class':'_1fQZEK'}):\n",
        "    name=a.find('div',attrs={'class':'_4rR01T'})\n",
        "    price=a.find('div',attrs={'class':'_30jeq3 _1_WHN1'})\n",
        "    specification=a.find('div', attrs={'class':'fMghEO'})\n",
        "\n",
        "    products.append(name.text)\n",
        "    prices.append(price.text)\n",
        "    specifications.append(specification.text) "
      ],
      "execution_count": null,
      "outputs": []
    },
    {
      "cell_type": "code",
      "metadata": {
        "id": "UWKUC078xgcK"
      },
      "source": [
        "df = pd.DataFrame({'Product Name':products,'Price':prices,'Specification':specifications}) \n"
      ],
      "execution_count": null,
      "outputs": []
    },
    {
      "cell_type": "code",
      "metadata": {
        "colab": {
          "base_uri": "https://localhost:8080/"
        },
        "id": "nxHJt6Sq0fKD",
        "outputId": "1e73efd5-4539-4d4a-a721-f14a13b19fc2"
      },
      "source": [
        "print(df.head(10))"
      ],
      "execution_count": null,
      "outputs": [
        {
          "output_type": "stream",
          "text": [
            "                                        Product Name  ...                                      Specification\n",
            "0  Canon EOS 3000D DSLR Camera 1 Camera Body, 18 ...  ...  Self-Timer | Type C and Mini HDMI, |9 Auto Foc...\n",
            "1  SONY Alpha ILCE-6000Y/b in5 Mirrorless Camera ...  ...  Effective Pixels: 24.3 MPSensor Type: CMOSWiFi...\n",
            "2  Panasonic Lumix G85M Mirrorless Camera Body wi...  ...  Effective Pixels: 16 MPSensor Type: MOSWiFi Av...\n",
            "3  Canon M6 Mark II Mirrorless Camera with 15-45 ...  ...  Effective Pixels: 32.5 MPSensor Type: CMOSWiFi...\n",
            "4  FUJIFILM X Series X-T200 Mirrorless Camera Bod...  ...  Effective Pixels: 24.2 MPSensor Type: CMOSWiFi...\n",
            "5  NIKON Z 50 Mirrorless Camera Body with 16-50mm...  ...  Effective Pixels: 20.9 MPSensor Type: CMOSWiFi...\n",
            "6  Canon EOS 1500D DSLR Camera Body+ 18-55 mm IS ...  ...  Effective Pixels: 24.1 MPSensor Type: CMOSWiFi...\n",
            "7  FUJIFILM X-H1 Mirrorless Camera Body With vert...  ...  Effective Pixels: 24.3 MPSensor Type: CMOSWiFi...\n",
            "8  FUJIFILM X Series X-E4 Mirrorless Camera Body ...  ...  Effective Pixels: 26.1 MPSensor Type: BSI CMOS...\n",
            "9  FUJIFILM X Series X-A7 Mirrorless Camera Body ...  ...  Effective Pixels: 24.2 MPSensor Type: CMOSWiFi...\n",
            "\n",
            "[10 rows x 3 columns]\n"
          ],
          "name": "stdout"
        }
      ]
    },
    {
      "cell_type": "code",
      "metadata": {
        "id": "Qdsn5NMa4DhQ"
      },
      "source": [
        "df.to_csv('camerainfolist.csv', index=False, encoding='utf-8')"
      ],
      "execution_count": null,
      "outputs": []
    }
  ]
}